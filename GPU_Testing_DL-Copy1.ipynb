{
 "cells": [
  {
   "cell_type": "code",
   "execution_count": 1,
   "metadata": {
    "qubole": {
     "execution_info": {
      "cluster": "test_cluster",
      "clusterType": "cluster",
      "ended_at": "2020-07-18T05:56:28.012670Z",
      "started_at": "2020-07-18T05:56:28.009105Z",
      "user_email": "ashwini.p@swiggy.in"
     },
     "import_errors": true
    }
   },
   "outputs": [
    {
     "data": {
      "text/plain": [
       "[PhysicalDevice(name='/physical_device:CPU:0', device_type='CPU'),\n",
       " PhysicalDevice(name='/physical_device:XLA_CPU:0', device_type='XLA_CPU')]"
      ]
     },
     "execution_count": 1,
     "metadata": {},
     "output_type": "execute_result"
    }
   ],
   "source": [
    "import tensorflow as tf\n",
    "tf.config.experimental.list_physical_devices()"
   ]
  },
  {
   "cell_type": "code",
   "execution_count": 2,
   "metadata": {
    "qubole": {
     "execution_info": {
      "cluster": "test_cluster",
      "clusterType": "cluster",
      "ended_at": "2020-07-18T05:39:16.317586Z",
      "started_at": "2020-07-18T05:39:11.024882Z",
      "user_email": "ashwini.p@swiggy.in"
     }
    }
   },
   "outputs": [
    {
     "name": "stdout",
     "output_type": "stream",
     "text": [
      "v2.2.0-rc4-8-g2b96f3662b 2.2.0\n"
     ]
    }
   ],
   "source": [
    "import tensorflow as tf\n",
    "print(tf.version.GIT_VERSION, tf.version.VERSION)"
   ]
  },
  {
   "cell_type": "code",
   "execution_count": 3,
   "metadata": {
    "qubole": {
     "execution_info": {
      "cluster": "test_cluster",
      "clusterType": "cluster",
      "ended_at": "2020-07-18T05:56:42.092130Z",
      "started_at": "2020-07-18T05:56:41.906815Z",
      "user_email": "ashwini.p@swiggy.in"
     },
     "import_errors": true
    }
   },
   "outputs": [],
   "source": [
    "# import tensorflow v2 - disable eager execution to build explicit graph for deployment\n",
    "import tensorflow as tf\n",
    "tf.get_logger().setLevel('INFO')\n",
    "tf.autograph.set_verbosity(1)\n",
    "tf.debugging.set_log_device_placement(True)\n",
    "tf.compat.v1.disable_eager_execution()\n",
    "\n",
    "# import other libraries\n",
    "import pandas as pd\n",
    "import numpy as np\n",
    "\n",
    "from combined_estimator import CombinedEstimator\n",
    "from model_fns import * # all model_fns are using python closures"
   ]
  },
  {
   "cell_type": "code",
   "execution_count": 4,
   "metadata": {
    "qubole": {
     "execution_info": {
      "cluster": "test_cluster",
      "clusterType": "cluster",
      "ended_at": "2020-07-18T05:56:44.534890Z",
      "started_at": "2020-07-18T05:56:44.532153Z",
      "user_email": "ashwini.p@swiggy.in"
     },
     "import_errors": true
    }
   },
   "outputs": [],
   "source": [
    "LEARNING_RATE=0.001\n",
    "BATCH_SIZE = 256\n",
    "TRAIN_MAX_STEPS=None\n",
    "STEPS = None\n",
    "NUM_EPOCHS = 1 #TODO: Change this\n",
    "LEAKY_RELU_ALPHA = 0.1"
   ]
  },
  {
   "cell_type": "code",
   "execution_count": 5,
   "metadata": {
    "qubole": {
     "execution_info": {
      "cluster": "test_cluster",
      "clusterType": "cluster",
      "ended_at": "2020-07-18T05:56:47.355527Z",
      "started_at": "2020-07-18T05:56:47.353060Z",
      "user_email": "ashwini.p@swiggy.in"
     }
    }
   },
   "outputs": [],
   "source": [
    "TRAIN_FILE = 'sample_train.csv'#O2D_Jul10_train_data.csv'\n",
    "EVAL_FILE = 'sample_test.csv'#O2D_Jul10_test_data.csv'\n",
    "MODEL_DIR=\"o2d\"\n",
    "SAVE_CHECKPOINT_SECS = 900 # once in 15 minutes\n",
    "SAVE_SUMMARY_STEPS = 4000 # on 4000 epochs\n",
    "KEEP_CHECKPOINT_MAX = 5 # keep small number to not explode disk space"
   ]
  },
  {
   "cell_type": "code",
   "execution_count": 6,
   "metadata": {
    "qubole": {
     "execution_info": {
      "cluster": "test_cluster",
      "clusterType": "cluster",
      "ended_at": "2020-07-18T05:56:49.365216Z",
      "started_at": "2020-07-18T05:56:49.353935Z",
      "user_email": "ashwini.p@swiggy.in"
     }
    }
   },
   "outputs": [],
   "source": [
    "features_fm_regressor = ['banner_factor','weekday','hour','fm_avg_Rz_1H','fm_avg_Rid_1Day','fm_avg_Rid_hour_30D','rest_zone_rain_mode__2H','fm_avg_Rz_dow_hour_7D','fm_avg_Rz_3H','fm_avg_Rz_dow_hour_30D','fm_avg_Rz_3D','fm_avg_Rz_1D','fm_avg_Rh_1D','fm_avg_Rh_hour_3D','fm_avg_Rh_dow_hour_7D']\n",
    "features_lm_regressor  = ['rant_cst_distance','p2d_avg_Rz_3D','p2d_avg_Rz_1H','p2d_avg_Cz_3D','p2d_avg_Rid_20D','p2d_avg_Rid_1H','p2d_avg_Cz_1H','p2d_avg_Rid_3D','r2d_avg_Cg_7D','p2d_avg_Ch_20D','p2d_sd_Ch_20D','rest_zone_rain_mode__2H','cust_zone_rain_mode__2H','embedding_dayofweek_LM_0','embedding_dayofweek_LM_1','embedding_dayofweek_LM_2','embedding_hour_LM_0','embedding_hour_LM_1','embedding_hour_LM_2','embedding_hour_LM_3','embedding_hour_LM_4','embedding_city_LM_0','embedding_city_LM_1','embedding_city_LM_2','embedding_city_LM_3','embedding_city_LM_4','embedding_Rz_LM_0','embedding_Rz_LM_1','embedding_Rz_LM_2','embedding_Rz_LM_3','embedding_Rz_LM_4','embedding_Rz_LM_5','embedding_Rz_LM_6','embedding_Rz_LM_7','embedding_Rz_LM_8','embedding_Rz_LM_9','embedding_Rz_LM_10','embedding_Rz_LM_11','embedding_Rz_LM_12','embedding_Rz_LM_13','embedding_Rz_LM_14','embedding_Rz_LM_15','embedding_Rz_LM_16','embedding_Rz_LM_17','embedding_Rz_LM_18','embedding_Rz_LM_19','embedding_Rz_LM_20','embedding_Rz_LM_21','embedding_Rz_LM_22','embedding_Rz_LM_23','embedding_Rz_LM_24']\n",
    "features_o2a_regressor = ['banner_factor','weekday','hour','o2as_avg_res_1h','o2a_zoneid_last15mins_averages','o2a_zoneid_last5mins_averages','o2as_avg_Rid_hour_dow_30d','o2as_avg_Rz_hour_dow_30d','o2as_avg_Rz_hour_dow_9d','o2as_avg_Rz_hour_dow_lag','rest_zone_rain_mode__2H','o2as_avg_Rid_hour_3D','o2as_avg_Rz_dow_30D','o2as_avg_Rz_7D','o2as_avg_Rh_dow_7D','o2as_avg_Rh_7D','o2as_avg_Rid_dow_hour_7D']\n",
    "features_o2d_regressor = ['bill_amount','banner_factor','hour','rant_cst_distance','o2as_avg_res_1h','o2a_zoneid_last15mins_averages','o2a_zoneid_last5mins_averages','o2as_avg_Rid_hour_dow_30d','o2as_avg_Rz_hour_dow_30d','o2as_avg_Rz_hour_dow_9d','o2as_avg_Rz_hour_dow_lag','o2as_avg_Rid_hour_3D','o2as_avg_Rz_dow_30D','o2as_avg_Rz_7D','o2as_avg_Rh_dow_7D','o2as_avg_Rh_7D','o2as_avg_Rid_dow_hour_7D','rest_zone_rain_mode__2H','cust_zone_rain_mode__2H','fm_avg_Rz_1H','fm_avg_Rid_1Day','fm_avg_Rz_dow_hour_7D','fm_avg_Rz_3H','fm_avg_Rz_dow_hour_30D','fm_avg_Rz_3D','fm_avg_Rz_1D','fm_avg_Rh_1D','fm_avg_Rh_hour_3D','fm_avg_Rh_dow_hour_7D','ar2p_avg_res_hour_20d','ar2p_avg_res_20d','ar2p_avg_res_1h','order_item_count','order_total_quantity','rant_active_orders','rant_banner_factor','items_past','o2p_value_res_lag1','item_o2p_lag','item_o2p_avg','item_slot_o2p_avg','item_slot_o2p_avg_1D','o2p_avg_1H','avg_item','high_item','rare_item','lag_delta_I','lag_delta_II','item_lag_delta_I','rest_placed_order_count__1h','rant_delta','o2mf_value_res_lag1','o2mf_avg_1H','p2d_avg_Rz_3D','p2d_avg_Rz_1H','p2d_avg_Cz_3D','p2d_avg_Rid_20D','p2d_avg_Rid_1H','p2d_avg_Cz_1H','p2d_avg_Rid_3D','r2d_avg_Cg_7D','p2d_avg_Ch_20D','p2d_sd_Ch_20D','embedding_hour_LM_0','embedding_hour_LM_1','embedding_hour_LM_2','embedding_hour_LM_3','embedding_hour_LM_4','embedding_city_LM_0','embedding_city_LM_1','embedding_city_LM_2','embedding_city_LM_3','embedding_city_LM_4','embedding_Rz_LM_0','embedding_Rz_LM_1','embedding_Rz_LM_2','embedding_Rz_LM_3','embedding_Rz_LM_4','embedding_Rz_LM_5','embedding_Rz_LM_6','embedding_Rz_LM_7','embedding_Rz_LM_8','embedding_Rz_LM_9','embedding_Rz_LM_10','embedding_Rz_LM_11','embedding_Rz_LM_12','embedding_Rz_LM_13','embedding_Rz_LM_14','embedding_Rz_LM_15','embedding_Rz_LM_16','embedding_Rz_LM_17','embedding_Rz_LM_18','embedding_Rz_LM_19','embedding_Rz_LM_20','embedding_Rz_LM_21','embedding_Rz_LM_22','embedding_Rz_LM_23','embedding_Rz_LM_24','embedding_hour_O2P_0','embedding_hour_O2P_1','embedding_hour_O2P_2','embedding_hour_O2P_3','embedding_hour_O2P_4','embedding_week_O2P_0','embedding_week_O2P_1','embedding_week_O2P_2','embedding_rant_O2P_0','embedding_rant_O2P_1','embedding_rant_O2P_2','embedding_rant_O2P_3','embedding_rant_O2P_4','embedding_rant_O2P_5','embedding_rant_O2P_6','embedding_rant_O2P_7','embedding_rant_O2P_8','embedding_rant_O2P_9','embedding_city_O2P_0','embedding_city_O2P_1','embedding_city_O2P_2','embedding_city_O2P_3','embedding_city_O2P_4']\n",
    "features_o2p_regressor = ['bill_amount','banner_factor','hour','weekday','order_item_count','order_total_quantity','rant_active_orders','rant_banner_factor','items_past','o2p_value_res_lag1','item_o2p_lag','item_o2p_avg','item_slot_o2p_avg','item_slot_o2p_avg_1D','o2p_avg_1H','avg_item','high_item','rare_item','lag_delta_I','lag_delta_II','item_lag_delta_I','rest_placed_order_count__1h','rant_delta','o2mf_value_res_lag1','o2mf_avg_1H','ar2p_avg_res_hour_20d','ar2p_avg_res_20d','ar2p_avg_res_1h','rest_zone_rain_mode__2H','embedding_hour_O2P_0','embedding_hour_O2P_1','embedding_hour_O2P_2','embedding_hour_O2P_3','embedding_hour_O2P_4','embedding_week_O2P_0','embedding_week_O2P_1','embedding_week_O2P_2','embedding_rant_O2P_0','embedding_rant_O2P_1','embedding_rant_O2P_2','embedding_rant_O2P_3','embedding_rant_O2P_4','embedding_rant_O2P_5','embedding_rant_O2P_6','embedding_rant_O2P_7','embedding_rant_O2P_8','embedding_rant_O2P_9','embedding_city_O2P_0','embedding_city_O2P_1','embedding_city_O2P_2','embedding_city_O2P_3','embedding_city_O2P_4']\n",
    "features_wt_regressor = ['banner_factor','weekday','hour','ar2p_avg_res_hour_20d','ar2p_avg_res_20d','ar2p_avg_res_1h','rest_zone_rain_mode__2H']\n",
    "\n",
    "output_features = ['O2D','O2D_beef','Ar2P','O2As','FM','O2P','P2D']\n",
    "\n",
    "input_features = list(set(features_fm_regressor + features_lm_regressor + features_o2a_regressor + features_o2d_regressor + features_o2p_regressor + features_wt_regressor))"
   ]
  },
  {
   "cell_type": "code",
   "execution_count": 7,
   "metadata": {
    "qubole": {
     "execution_info": {
      "cluster": "test_cluster",
      "clusterType": "cluster",
      "ended_at": "2020-07-18T05:56:51.737333Z",
      "started_at": "2020-07-18T05:56:51.733951Z",
      "user_email": "ashwini.p@swiggy.in"
     }
    }
   },
   "outputs": [],
   "source": [
    "def train_input_fn():\n",
    "    \n",
    "    #select both input and output features during training\n",
    "    dataset = tf.data.experimental.make_csv_dataset(\n",
    "      file_pattern=TRAIN_FILE,\n",
    "      batch_size=BATCH_SIZE,\n",
    "      num_epochs=NUM_EPOCHS,\n",
    "      ignore_errors=True, \n",
    "      select_columns=input_features + output_features, \n",
    "      column_defaults=['float64' for _ in range(len(input_features + output_features))],\n",
    "      shuffle=False)\n",
    "    \n",
    "    return dataset"
   ]
  },
  {
   "cell_type": "code",
   "execution_count": 8,
   "metadata": {},
   "outputs": [
    {
     "data": {
      "text/plain": [
       "<PrefetchDataset shapes: OrderedDict([(order_item_count, (None,)), (rant_delta, (None,)), (embedding_rant_O2P_2, (None,)), (o2a_zoneid_last15mins_averages, (None,)), (ar2p_avg_res_20d, (None,)), (rest_placed_order_count__1h, (None,)), (embedding_hour_LM_0, (None,)), (embedding_Rz_LM_13, (None,)), (avg_item, (None,)), (embedding_week_O2P_0, (None,)), (embedding_city_LM_2, (None,)), (embedding_hour_LM_3, (None,)), (items_past, (None,)), (high_item, (None,)), (o2mf_value_res_lag1, (None,)), (embedding_hour_O2P_3, (None,)), (fm_avg_Rh_dow_hour_7D, (None,)), (embedding_Rz_LM_0, (None,)), (embedding_Rz_LM_21, (None,)), (fm_avg_Rz_3H, (None,)), (o2p_value_res_lag1, (None,)), (p2d_avg_Cz_1H, (None,)), (embedding_city_LM_3, (None,)), (embedding_rant_O2P_0, (None,)), (o2as_avg_Rz_7D, (None,)), (rant_active_orders, (None,)), (embedding_rant_O2P_4, (None,)), (cust_zone_rain_mode__2H, (None,)), (embedding_hour_LM_2, (None,)), (embedding_Rz_LM_23, (None,)), (p2d_sd_Ch_20D, (None,)), (embedding_city_O2P_4, (None,)), (item_lag_delta_I, (None,)), (embedding_hour_LM_4, (None,)), (embedding_Rz_LM_6, (None,)), (p2d_avg_Ch_20D, (None,)), (embedding_rant_O2P_8, (None,)), (embedding_Rz_LM_4, (None,)), (embedding_Rz_LM_18, (None,)), (bill_amount, (None,)), (p2d_avg_Rz_3D, (None,)), (embedding_week_O2P_2, (None,)), (lag_delta_II, (None,)), (weekday, (None,)), (o2as_avg_Rh_7D, (None,)), (banner_factor, (None,)), (embedding_hour_O2P_4, (None,)), (hour, (None,)), (embedding_dayofweek_LM_2, (None,)), (o2as_avg_Rz_dow_30D, (None,)), (embedding_city_O2P_1, (None,)), (o2as_avg_Rh_dow_7D, (None,)), (embedding_Rz_LM_24, (None,)), (o2as_avg_Rid_hour_dow_30d, (None,)), (embedding_Rz_LM_1, (None,)), (embedding_Rz_LM_20, (None,)), (embedding_Rz_LM_15, (None,)), (rant_banner_factor, (None,)), (embedding_hour_O2P_0, (None,)), (embedding_city_O2P_0, (None,)), (o2as_avg_Rz_hour_dow_9d, (None,)), (embedding_hour_LM_1, (None,)), (item_slot_o2p_avg_1D, (None,)), (item_o2p_avg, (None,)), (embedding_city_O2P_3, (None,)), (fm_avg_Rz_dow_hour_7D, (None,)), (item_slot_o2p_avg, (None,)), (embedding_Rz_LM_19, (None,)), (o2as_avg_Rid_dow_hour_7D, (None,)), (o2as_avg_Rid_hour_3D, (None,)), (o2as_avg_Rz_hour_dow_lag, (None,)), (embedding_dayofweek_LM_0, (None,)), (embedding_Rz_LM_12, (None,)), (rare_item, (None,)), (embedding_Rz_LM_2, (None,)), (fm_avg_Rz_3D, (None,)), (fm_avg_Rz_1H, (None,)), (embedding_Rz_LM_10, (None,)), (embedding_Rz_LM_17, (None,)), (embedding_hour_O2P_2, (None,)), (embedding_Rz_LM_5, (None,)), (p2d_avg_Rid_20D, (None,)), (embedding_rant_O2P_6, (None,)), (r2d_avg_Cg_7D, (None,)), (embedding_dayofweek_LM_1, (None,)), (embedding_city_LM_1, (None,)), (order_total_quantity, (None,)), (embedding_Rz_LM_16, (None,)), (o2as_avg_Rz_hour_dow_30d, (None,)), (embedding_rant_O2P_5, (None,)), (rant_cst_distance, (None,)), (embedding_Rz_LM_9, (None,)), (embedding_hour_O2P_1, (None,)), (embedding_city_LM_4, (None,)), (o2a_zoneid_last5mins_averages, (None,)), (rest_zone_rain_mode__2H, (None,)), (embedding_Rz_LM_3, (None,)), (o2as_avg_res_1h, (None,)), (embedding_rant_O2P_9, (None,)), (fm_avg_Rid_hour_30D, (None,)), (fm_avg_Rz_dow_hour_30D, (None,)), (p2d_avg_Rid_3D, (None,)), (embedding_city_O2P_2, (None,)), (ar2p_avg_res_1h, (None,)), (fm_avg_Rh_1D, (None,)), (p2d_avg_Rz_1H, (None,)), (embedding_Rz_LM_8, (None,)), (embedding_Rz_LM_22, (None,)), (embedding_rant_O2P_3, (None,)), (embedding_Rz_LM_14, (None,)), (embedding_rant_O2P_7, (None,)), (o2mf_avg_1H, (None,)), (fm_avg_Rh_hour_3D, (None,)), (ar2p_avg_res_hour_20d, (None,)), (fm_avg_Rid_1Day, (None,)), (item_o2p_lag, (None,)), (embedding_Rz_LM_11, (None,)), (fm_avg_Rz_1D, (None,)), (embedding_rant_O2P_1, (None,)), (p2d_avg_Rid_1H, (None,)), (p2d_avg_Cz_3D, (None,)), (lag_delta_I, (None,)), (embedding_city_LM_0, (None,)), (embedding_week_O2P_1, (None,)), (embedding_Rz_LM_7, (None,)), (o2p_avg_1H, (None,)), (O2D, (None,)), (O2D_beef, (None,)), (Ar2P, (None,)), (O2As, (None,)), (FM, (None,)), (O2P, (None,)), (P2D, (None,))]), types: OrderedDict([(order_item_count, tf.float64), (rant_delta, tf.float64), (embedding_rant_O2P_2, tf.float64), (o2a_zoneid_last15mins_averages, tf.float64), (ar2p_avg_res_20d, tf.float64), (rest_placed_order_count__1h, tf.float64), (embedding_hour_LM_0, tf.float64), (embedding_Rz_LM_13, tf.float64), (avg_item, tf.float64), (embedding_week_O2P_0, tf.float64), (embedding_city_LM_2, tf.float64), (embedding_hour_LM_3, tf.float64), (items_past, tf.float64), (high_item, tf.float64), (o2mf_value_res_lag1, tf.float64), (embedding_hour_O2P_3, tf.float64), (fm_avg_Rh_dow_hour_7D, tf.float64), (embedding_Rz_LM_0, tf.float64), (embedding_Rz_LM_21, tf.float64), (fm_avg_Rz_3H, tf.float64), (o2p_value_res_lag1, tf.float64), (p2d_avg_Cz_1H, tf.float64), (embedding_city_LM_3, tf.float64), (embedding_rant_O2P_0, tf.float64), (o2as_avg_Rz_7D, tf.float64), (rant_active_orders, tf.float64), (embedding_rant_O2P_4, tf.float64), (cust_zone_rain_mode__2H, tf.float64), (embedding_hour_LM_2, tf.float64), (embedding_Rz_LM_23, tf.float64), (p2d_sd_Ch_20D, tf.float64), (embedding_city_O2P_4, tf.float64), (item_lag_delta_I, tf.float64), (embedding_hour_LM_4, tf.float64), (embedding_Rz_LM_6, tf.float64), (p2d_avg_Ch_20D, tf.float64), (embedding_rant_O2P_8, tf.float64), (embedding_Rz_LM_4, tf.float64), (embedding_Rz_LM_18, tf.float64), (bill_amount, tf.float64), (p2d_avg_Rz_3D, tf.float64), (embedding_week_O2P_2, tf.float64), (lag_delta_II, tf.float64), (weekday, tf.float64), (o2as_avg_Rh_7D, tf.float64), (banner_factor, tf.float64), (embedding_hour_O2P_4, tf.float64), (hour, tf.float64), (embedding_dayofweek_LM_2, tf.float64), (o2as_avg_Rz_dow_30D, tf.float64), (embedding_city_O2P_1, tf.float64), (o2as_avg_Rh_dow_7D, tf.float64), (embedding_Rz_LM_24, tf.float64), (o2as_avg_Rid_hour_dow_30d, tf.float64), (embedding_Rz_LM_1, tf.float64), (embedding_Rz_LM_20, tf.float64), (embedding_Rz_LM_15, tf.float64), (rant_banner_factor, tf.float64), (embedding_hour_O2P_0, tf.float64), (embedding_city_O2P_0, tf.float64), (o2as_avg_Rz_hour_dow_9d, tf.float64), (embedding_hour_LM_1, tf.float64), (item_slot_o2p_avg_1D, tf.float64), (item_o2p_avg, tf.float64), (embedding_city_O2P_3, tf.float64), (fm_avg_Rz_dow_hour_7D, tf.float64), (item_slot_o2p_avg, tf.float64), (embedding_Rz_LM_19, tf.float64), (o2as_avg_Rid_dow_hour_7D, tf.float64), (o2as_avg_Rid_hour_3D, tf.float64), (o2as_avg_Rz_hour_dow_lag, tf.float64), (embedding_dayofweek_LM_0, tf.float64), (embedding_Rz_LM_12, tf.float64), (rare_item, tf.float64), (embedding_Rz_LM_2, tf.float64), (fm_avg_Rz_3D, tf.float64), (fm_avg_Rz_1H, tf.float64), (embedding_Rz_LM_10, tf.float64), (embedding_Rz_LM_17, tf.float64), (embedding_hour_O2P_2, tf.float64), (embedding_Rz_LM_5, tf.float64), (p2d_avg_Rid_20D, tf.float64), (embedding_rant_O2P_6, tf.float64), (r2d_avg_Cg_7D, tf.float64), (embedding_dayofweek_LM_1, tf.float64), (embedding_city_LM_1, tf.float64), (order_total_quantity, tf.float64), (embedding_Rz_LM_16, tf.float64), (o2as_avg_Rz_hour_dow_30d, tf.float64), (embedding_rant_O2P_5, tf.float64), (rant_cst_distance, tf.float64), (embedding_Rz_LM_9, tf.float64), (embedding_hour_O2P_1, tf.float64), (embedding_city_LM_4, tf.float64), (o2a_zoneid_last5mins_averages, tf.float64), (rest_zone_rain_mode__2H, tf.float64), (embedding_Rz_LM_3, tf.float64), (o2as_avg_res_1h, tf.float64), (embedding_rant_O2P_9, tf.float64), (fm_avg_Rid_hour_30D, tf.float64), (fm_avg_Rz_dow_hour_30D, tf.float64), (p2d_avg_Rid_3D, tf.float64), (embedding_city_O2P_2, tf.float64), (ar2p_avg_res_1h, tf.float64), (fm_avg_Rh_1D, tf.float64), (p2d_avg_Rz_1H, tf.float64), (embedding_Rz_LM_8, tf.float64), (embedding_Rz_LM_22, tf.float64), (embedding_rant_O2P_3, tf.float64), (embedding_Rz_LM_14, tf.float64), (embedding_rant_O2P_7, tf.float64), (o2mf_avg_1H, tf.float64), (fm_avg_Rh_hour_3D, tf.float64), (ar2p_avg_res_hour_20d, tf.float64), (fm_avg_Rid_1Day, tf.float64), (item_o2p_lag, tf.float64), (embedding_Rz_LM_11, tf.float64), (fm_avg_Rz_1D, tf.float64), (embedding_rant_O2P_1, tf.float64), (p2d_avg_Rid_1H, tf.float64), (p2d_avg_Cz_3D, tf.float64), (lag_delta_I, tf.float64), (embedding_city_LM_0, tf.float64), (embedding_week_O2P_1, tf.float64), (embedding_Rz_LM_7, tf.float64), (o2p_avg_1H, tf.float64), (O2D, tf.float64), (O2D_beef, tf.float64), (Ar2P, tf.float64), (O2As, tf.float64), (FM, tf.float64), (O2P, tf.float64), (P2D, tf.float64)])>"
      ]
     },
     "execution_count": 8,
     "metadata": {},
     "output_type": "execute_result"
    }
   ],
   "source": [
    "train_input_fn()"
   ]
  },
  {
   "cell_type": "code",
   "execution_count": 9,
   "metadata": {
    "qubole": {
     "execution_info": {
      "cluster": "test_cluster",
      "clusterType": "cluster",
      "ended_at": "2020-07-18T05:56:56.759584Z",
      "started_at": "2020-07-18T05:56:56.755988Z",
      "user_email": "ashwini.p@swiggy.in"
     }
    }
   },
   "outputs": [],
   "source": [
    "def eval_input_fn():\n",
    "    \n",
    "    #select both input and output features during evaluation\n",
    "    dataset = tf.data.experimental.make_csv_dataset(\n",
    "      file_pattern=EVAL_FILE,\n",
    "      batch_size=BATCH_SIZE,\n",
    "      num_epochs=1, #only once should evaluate\n",
    "      ignore_errors=True, \n",
    "      select_columns=input_features + output_features, \n",
    "      column_defaults=['float64' for _ in range(len(input_features + output_features))],\n",
    "      shuffle=False)\n",
    "    \n",
    "    return dataset"
   ]
  },
  {
   "cell_type": "code",
   "execution_count": 10,
   "metadata": {
    "qubole": {
     "execution_info": {
      "cluster": "test_cluster",
      "clusterType": "cluster",
      "ended_at": "2020-07-18T05:56:58.716329Z",
      "started_at": "2020-07-18T05:56:58.189982Z",
      "user_email": "ashwini.p@swiggy.in"
     }
    }
   },
   "outputs": [
    {
     "name": "stdout",
     "output_type": "stream",
     "text": [
      "INFO:tensorflow:Using MirroredStrategy with devices ('/device:GPU:0', '/device:GPU:1', '/device:GPU:2', '/device:GPU:3')\n",
      "INFO:tensorflow:Single-worker MultiWorkerMirroredStrategy with local_devices = ('/device:GPU:0', '/device:GPU:1', '/device:GPU:2', '/device:GPU:3'), communication = CollectiveCommunication.AUTO\n"
     ]
    }
   ],
   "source": [
    "strategy = tf.distribute.experimental.MultiWorkerMirroredStrategy()"
   ]
  },
  {
   "cell_type": "code",
   "execution_count": 11,
   "metadata": {
    "qubole": {
     "execution_info": {
      "cluster": "test_cluster",
      "clusterType": "cluster",
      "ended_at": "2020-07-18T05:56:59.834565Z",
      "started_at": "2020-07-18T05:56:59.728757Z",
      "user_email": "ashwini.p@swiggy.in"
     }
    }
   },
   "outputs": [
    {
     "name": "stdout",
     "output_type": "stream",
     "text": [
      "INFO:tensorflow:Initializing RunConfig with distribution strategies.\n",
      "INFO:tensorflow:Not using Distribute Coordinator.\n"
     ]
    }
   ],
   "source": [
    "# this defines at what configuration does training run\n",
    "rc = tf.estimator.RunConfig(train_distribute=strategy,eval_distribute=strategy,\n",
    "                            save_checkpoints_secs = SAVE_CHECKPOINT_SECS,\n",
    "                           model_dir = MODEL_DIR,\n",
    "                           save_summary_steps = SAVE_SUMMARY_STEPS,\n",
    "                           keep_checkpoint_max = KEEP_CHECKPOINT_MAX)"
   ]
  },
  {
   "cell_type": "code",
   "execution_count": null,
   "metadata": {
    "qubole": {}
   },
   "outputs": [],
   "source": [
    "o2a_estimator = tf.estimator.Estimator(\n",
    "    model_fn=o2a_model_fn(features_o2d_regressor, LEAKY_RELU_ALPHA, LEARNING_RATE,\n",
    "                         LOSS='custom'),\n",
    "    model_dir=MODEL_DIR,\n",
    "    config=rc)\n",
    "\n",
    "fm_estimator = tf.estimator.Estimator(\n",
    "    model_fn=fm_model_fn(features_fm_regressor, LEAKY_RELU_ALPHA, LEARNING_RATE,\n",
    "                        LOSS='custom'),\n",
    "    model_dir=MODEL_DIR,\n",
    "    config=rc)\n",
    "\n",
    "wt_estimator = tf.estimator.Estimator(\n",
    "    model_fn=wt_model_fn(features_wt_regressor, LEAKY_RELU_ALPHA, LEARNING_RATE,\n",
    "                        LOSS='custom'),\n",
    "    model_dir=MODEL_DIR,\n",
    "    config=rc)\n",
    "\n",
    "o2p_estimator = tf.estimator.Estimator(\n",
    "    model_fn=o2p_model_fn(features_o2p_regressor, LEAKY_RELU_ALPHA, LEARNING_RATE,\n",
    "                        LOSS='custom'),\n",
    "    model_dir=MODEL_DIR,\n",
    "    config=rc)\n",
    "\n",
    "lm_estimator = tf.estimator.Estimator(\n",
    "    model_fn=lm_model_fn(features_lm_regressor, LEAKY_RELU_ALPHA, LEARNING_RATE,\n",
    "                        LOSS='custom'),\n",
    "    model_dir=MODEL_DIR,\n",
    "    config=rc)\n",
    "\n",
    "o2d_estimator = tf.estimator.Estimator(\n",
    "    model_fn=o2d_model_fn(features_o2d_regressor, LEAKY_RELU_ALPHA, LEARNING_RATE,\n",
    "                        LOSS='custom'),\n",
    "    model_dir=MODEL_DIR,\n",
    "    config=rc)\n",
    "\n",
    "o2d_beef_estimator = tf.estimator.Estimator(\n",
    "    model_fn=o2d_beef_model_fn(features_o2d_regressor, LEAKY_RELU_ALPHA, LEARNING_RATE,\n",
    "                        LOSS='custom'),\n",
    "    model_dir=MODEL_DIR,\n",
    "    config=rc)"
   ]
  },
  {
   "cell_type": "code",
   "execution_count": 13,
   "metadata": {
    "qubole": {
     "execution_info": {
      "cluster": "test_cluster",
      "clusterType": "cluster",
      "ended_at": "2020-07-17T15:14:45.686885Z",
      "started_at": "2020-07-17T15:14:45.683375Z",
      "user_email": "ashwini.p@swiggy.in"
     }
    }
   },
   "outputs": [],
   "source": [
    "estimator = CombinedEstimator([o2a_estimator, fm_estimator, wt_estimator, o2p_estimator, \n",
    "                               lm_estimator, o2d_estimator, o2d_beef_estimator],\n",
    "                              ['O2As','FM','Ar2P','O2P','P2D','O2D','O2D_beef'], \n",
    "                              MODEL_DIR)"
   ]
  },
  {
   "cell_type": "code",
   "execution_count": 19,
   "metadata": {
    "qubole": {
     "execution_info": {
      "cluster": "test_cluster",
      "clusterType": "cluster",
      "ended_at": "2020-07-17T15:32:53.524603Z",
      "started_at": "2020-07-17T15:32:51.371762Z",
      "user_email": "ashwini.p@swiggy.in"
     }
    }
   },
   "outputs": [
    {
     "ename": "TypeError",
     "evalue": "in user code:\n\n    /usr/lib/environs/e-a-2019.03-py-3.7.3/lib/python3.7/site-packages/tensorflow_estimator/python/estimator/estimator.py:1170 _call_model_fn  *\n        model_fn_results = self._model_fn(features=features, **kwargs)\n    /media/ephemeral0/combined_estimator.py:39 model_fn  *\n        if spec.train_op:\n    /usr/lib/environs/e-a-2019.03-py-3.7.3/lib/python3.7/site-packages/tensorflow/python/autograph/operators/control_flow.py:924 if_stmt\n        basic_symbol_names, composite_symbol_names)\n    /usr/lib/environs/e-a-2019.03-py-3.7.3/lib/python3.7/site-packages/tensorflow/python/autograph/operators/control_flow.py:962 tf_if_stmt\n        error_checking_orelse)\n    /usr/lib/environs/e-a-2019.03-py-3.7.3/lib/python3.7/site-packages/tensorflow/python/util/deprecation.py:507 new_func\n        return func(*args, **kwargs)\n    /usr/lib/environs/e-a-2019.03-py-3.7.3/lib/python3.7/site-packages/tensorflow/python/ops/control_flow_ops.py:1177 cond\n        return cond_v2.cond_v2(pred, true_fn, false_fn, name)\n    /usr/lib/environs/e-a-2019.03-py-3.7.3/lib/python3.7/site-packages/tensorflow/python/ops/cond_v2.py:91 cond_v2\n        op_return_value=pred)\n    /usr/lib/environs/e-a-2019.03-py-3.7.3/lib/python3.7/site-packages/tensorflow/python/framework/func_graph.py:981 func_graph_from_py_func\n        func_outputs = python_func(*func_args, **func_kwargs)\n    /usr/lib/environs/e-a-2019.03-py-3.7.3/lib/python3.7/site-packages/tensorflow/python/autograph/operators/control_flow.py:958 error_checking_orelse\n        basic_symbol_names + composite_symbol_names)\n    /usr/lib/environs/e-a-2019.03-py-3.7.3/lib/python3.7/site-packages/tensorflow/python/autograph/operators/control_flow.py:295 _verify_tf_cond_vars\n        ' branches.\\n\\n{}'.format(name, str(e)))\n\n    TypeError: \"train_op_list\" does not have the same nested structure in the TRUE and FALSE branches.\n    \n    The two structures don't have the same nested structure.\n    \n    First structure: type=list str=[<tf.Tensor 'Adam/Identity:0' shape=() dtype=int64>]\n    \n    Second structure: type=NoneType str=None\n    \n    More specifically: Substructure \"type=list str=[<tf.Tensor 'Adam/Identity:0' shape=() dtype=int64>]\" is a sequence, while substructure \"type=NoneType str=None\" is not\n    Entire first structure:\n    [.]\n    Entire second structure:\n    .\n",
     "output_type": "error",
     "traceback": [
      "\u001b[0;31m---------------------------------------------------------------------------\u001b[0m",
      "\u001b[0;31mTypeError\u001b[0m                                 Traceback (most recent call last)",
      "\u001b[0;32m<ipython-input-19-285f5b632916>\u001b[0m in \u001b[0;36m<module>\u001b[0;34m\u001b[0m\n\u001b[1;32m      2\u001b[0m \u001b[0meval_spec\u001b[0m \u001b[0;34m=\u001b[0m \u001b[0mtf\u001b[0m\u001b[0;34m.\u001b[0m\u001b[0mestimator\u001b[0m\u001b[0;34m.\u001b[0m\u001b[0mEvalSpec\u001b[0m\u001b[0;34m(\u001b[0m\u001b[0minput_fn\u001b[0m \u001b[0;34m=\u001b[0m \u001b[0meval_input_fn\u001b[0m\u001b[0;34m)\u001b[0m\u001b[0;34m\u001b[0m\u001b[0;34m\u001b[0m\u001b[0m\n\u001b[1;32m      3\u001b[0m \u001b[0;34m\u001b[0m\u001b[0m\n\u001b[0;32m----> 4\u001b[0;31m \u001b[0mtf\u001b[0m\u001b[0;34m.\u001b[0m\u001b[0mestimator\u001b[0m\u001b[0;34m.\u001b[0m\u001b[0mtrain_and_evaluate\u001b[0m\u001b[0;34m(\u001b[0m\u001b[0mestimator\u001b[0m\u001b[0;34m,\u001b[0m \u001b[0mtrain_spec\u001b[0m\u001b[0;34m=\u001b[0m\u001b[0mtrain_spec\u001b[0m\u001b[0;34m,\u001b[0m \u001b[0meval_spec\u001b[0m\u001b[0;34m=\u001b[0m\u001b[0meval_spec\u001b[0m\u001b[0;34m)\u001b[0m\u001b[0;34m\u001b[0m\u001b[0;34m\u001b[0m\u001b[0m\n\u001b[0m",
      "\u001b[0;32m/usr/lib/environs/e-a-2019.03-py-3.7.3/lib/python3.7/site-packages/tensorflow_estimator/python/estimator/training.py\u001b[0m in \u001b[0;36mtrain_and_evaluate\u001b[0;34m(estimator, train_spec, eval_spec)\u001b[0m\n\u001b[1;32m    470\u001b[0m         '(with task id 0).  Given task id {}'.format(config.task_id))\n\u001b[1;32m    471\u001b[0m \u001b[0;34m\u001b[0m\u001b[0m\n\u001b[0;32m--> 472\u001b[0;31m   \u001b[0;32mreturn\u001b[0m \u001b[0mexecutor\u001b[0m\u001b[0;34m.\u001b[0m\u001b[0mrun\u001b[0m\u001b[0;34m(\u001b[0m\u001b[0;34m)\u001b[0m\u001b[0;34m\u001b[0m\u001b[0;34m\u001b[0m\u001b[0m\n\u001b[0m\u001b[1;32m    473\u001b[0m \u001b[0;34m\u001b[0m\u001b[0m\n\u001b[1;32m    474\u001b[0m \u001b[0;34m\u001b[0m\u001b[0m\n",
      "\u001b[0;32m/usr/lib/environs/e-a-2019.03-py-3.7.3/lib/python3.7/site-packages/tensorflow_estimator/python/estimator/training.py\u001b[0m in \u001b[0;36mrun\u001b[0;34m(self)\u001b[0m\n\u001b[1;32m    611\u001b[0m       tf.compat.v1.logging.info(\n\u001b[1;32m    612\u001b[0m           'Running training and evaluation locally (non-distributed).')\n\u001b[0;32m--> 613\u001b[0;31m       \u001b[0;32mreturn\u001b[0m \u001b[0mself\u001b[0m\u001b[0;34m.\u001b[0m\u001b[0mrun_local\u001b[0m\u001b[0;34m(\u001b[0m\u001b[0;34m)\u001b[0m\u001b[0;34m\u001b[0m\u001b[0;34m\u001b[0m\u001b[0m\n\u001b[0m\u001b[1;32m    614\u001b[0m \u001b[0;34m\u001b[0m\u001b[0m\n\u001b[1;32m    615\u001b[0m     \u001b[0;31m# Distributed case.\u001b[0m\u001b[0;34m\u001b[0m\u001b[0;34m\u001b[0m\u001b[0;34m\u001b[0m\u001b[0m\n",
      "\u001b[0;32m/usr/lib/environs/e-a-2019.03-py-3.7.3/lib/python3.7/site-packages/tensorflow_estimator/python/estimator/training.py\u001b[0m in \u001b[0;36mrun_local\u001b[0;34m(self)\u001b[0m\n\u001b[1;32m    712\u001b[0m         \u001b[0mmax_steps\u001b[0m\u001b[0;34m=\u001b[0m\u001b[0mself\u001b[0m\u001b[0;34m.\u001b[0m\u001b[0m_train_spec\u001b[0m\u001b[0;34m.\u001b[0m\u001b[0mmax_steps\u001b[0m\u001b[0;34m,\u001b[0m\u001b[0;34m\u001b[0m\u001b[0;34m\u001b[0m\u001b[0m\n\u001b[1;32m    713\u001b[0m         \u001b[0mhooks\u001b[0m\u001b[0;34m=\u001b[0m\u001b[0mtrain_hooks\u001b[0m\u001b[0;34m,\u001b[0m\u001b[0;34m\u001b[0m\u001b[0;34m\u001b[0m\u001b[0m\n\u001b[0;32m--> 714\u001b[0;31m         saving_listeners=saving_listeners)\n\u001b[0m\u001b[1;32m    715\u001b[0m \u001b[0;34m\u001b[0m\u001b[0m\n\u001b[1;32m    716\u001b[0m     eval_result = listener_for_eval.eval_result or _EvalResult(\n",
      "\u001b[0;32m/usr/lib/environs/e-a-2019.03-py-3.7.3/lib/python3.7/site-packages/tensorflow_estimator/python/estimator/estimator.py\u001b[0m in \u001b[0;36mtrain\u001b[0;34m(self, input_fn, hooks, steps, max_steps, saving_listeners)\u001b[0m\n\u001b[1;32m    347\u001b[0m \u001b[0;34m\u001b[0m\u001b[0m\n\u001b[1;32m    348\u001b[0m       \u001b[0msaving_listeners\u001b[0m \u001b[0;34m=\u001b[0m \u001b[0m_check_listeners_type\u001b[0m\u001b[0;34m(\u001b[0m\u001b[0msaving_listeners\u001b[0m\u001b[0;34m)\u001b[0m\u001b[0;34m\u001b[0m\u001b[0;34m\u001b[0m\u001b[0m\n\u001b[0;32m--> 349\u001b[0;31m       \u001b[0mloss\u001b[0m \u001b[0;34m=\u001b[0m \u001b[0mself\u001b[0m\u001b[0;34m.\u001b[0m\u001b[0m_train_model\u001b[0m\u001b[0;34m(\u001b[0m\u001b[0minput_fn\u001b[0m\u001b[0;34m,\u001b[0m \u001b[0mhooks\u001b[0m\u001b[0;34m,\u001b[0m \u001b[0msaving_listeners\u001b[0m\u001b[0;34m)\u001b[0m\u001b[0;34m\u001b[0m\u001b[0;34m\u001b[0m\u001b[0m\n\u001b[0m\u001b[1;32m    350\u001b[0m       \u001b[0mlogging\u001b[0m\u001b[0;34m.\u001b[0m\u001b[0minfo\u001b[0m\u001b[0;34m(\u001b[0m\u001b[0;34m'Loss for final step: %s.'\u001b[0m\u001b[0;34m,\u001b[0m \u001b[0mloss\u001b[0m\u001b[0;34m)\u001b[0m\u001b[0;34m\u001b[0m\u001b[0;34m\u001b[0m\u001b[0m\n\u001b[1;32m    351\u001b[0m       \u001b[0;32mreturn\u001b[0m \u001b[0mself\u001b[0m\u001b[0;34m\u001b[0m\u001b[0;34m\u001b[0m\u001b[0m\n",
      "\u001b[0;32m/usr/lib/environs/e-a-2019.03-py-3.7.3/lib/python3.7/site-packages/tensorflow_estimator/python/estimator/estimator.py\u001b[0m in \u001b[0;36m_train_model\u001b[0;34m(self, input_fn, hooks, saving_listeners)\u001b[0m\n\u001b[1;32m   1178\u001b[0m   \u001b[0;32mdef\u001b[0m \u001b[0m_train_model\u001b[0m\u001b[0;34m(\u001b[0m\u001b[0mself\u001b[0m\u001b[0;34m,\u001b[0m \u001b[0minput_fn\u001b[0m\u001b[0;34m,\u001b[0m \u001b[0mhooks\u001b[0m\u001b[0;34m,\u001b[0m \u001b[0msaving_listeners\u001b[0m\u001b[0;34m)\u001b[0m\u001b[0;34m:\u001b[0m\u001b[0;34m\u001b[0m\u001b[0;34m\u001b[0m\u001b[0m\n\u001b[1;32m   1179\u001b[0m     \u001b[0;32mif\u001b[0m \u001b[0mself\u001b[0m\u001b[0;34m.\u001b[0m\u001b[0m_train_distribution\u001b[0m\u001b[0;34m:\u001b[0m\u001b[0;34m\u001b[0m\u001b[0;34m\u001b[0m\u001b[0m\n\u001b[0;32m-> 1180\u001b[0;31m       \u001b[0;32mreturn\u001b[0m \u001b[0mself\u001b[0m\u001b[0;34m.\u001b[0m\u001b[0m_train_model_distributed\u001b[0m\u001b[0;34m(\u001b[0m\u001b[0minput_fn\u001b[0m\u001b[0;34m,\u001b[0m \u001b[0mhooks\u001b[0m\u001b[0;34m,\u001b[0m \u001b[0msaving_listeners\u001b[0m\u001b[0;34m)\u001b[0m\u001b[0;34m\u001b[0m\u001b[0;34m\u001b[0m\u001b[0m\n\u001b[0m\u001b[1;32m   1181\u001b[0m     \u001b[0;32melse\u001b[0m\u001b[0;34m:\u001b[0m\u001b[0;34m\u001b[0m\u001b[0;34m\u001b[0m\u001b[0m\n\u001b[1;32m   1182\u001b[0m       \u001b[0;32mreturn\u001b[0m \u001b[0mself\u001b[0m\u001b[0;34m.\u001b[0m\u001b[0m_train_model_default\u001b[0m\u001b[0;34m(\u001b[0m\u001b[0minput_fn\u001b[0m\u001b[0;34m,\u001b[0m \u001b[0mhooks\u001b[0m\u001b[0;34m,\u001b[0m \u001b[0msaving_listeners\u001b[0m\u001b[0;34m)\u001b[0m\u001b[0;34m\u001b[0m\u001b[0;34m\u001b[0m\u001b[0m\n",
      "\u001b[0;32m/usr/lib/environs/e-a-2019.03-py-3.7.3/lib/python3.7/site-packages/tensorflow_estimator/python/estimator/estimator.py\u001b[0m in \u001b[0;36m_train_model_distributed\u001b[0;34m(self, input_fn, hooks, saving_listeners)\u001b[0m\n\u001b[1;32m   1240\u001b[0m       \u001b[0mself\u001b[0m\u001b[0;34m.\u001b[0m\u001b[0m_config\u001b[0m\u001b[0;34m.\u001b[0m\u001b[0m_train_distribute\u001b[0m\u001b[0;34m.\u001b[0m\u001b[0mconfigure\u001b[0m\u001b[0;34m(\u001b[0m\u001b[0mself\u001b[0m\u001b[0;34m.\u001b[0m\u001b[0m_config\u001b[0m\u001b[0;34m.\u001b[0m\u001b[0msession_config\u001b[0m\u001b[0;34m)\u001b[0m\u001b[0;34m\u001b[0m\u001b[0;34m\u001b[0m\u001b[0m\n\u001b[1;32m   1241\u001b[0m       return self._actual_train_model_distributed(\n\u001b[0;32m-> 1242\u001b[0;31m           self._config._train_distribute, input_fn, hooks, saving_listeners)\n\u001b[0m\u001b[1;32m   1243\u001b[0m     \u001b[0;31m# pylint: enable=protected-access\u001b[0m\u001b[0;34m\u001b[0m\u001b[0;34m\u001b[0m\u001b[0;34m\u001b[0m\u001b[0m\n\u001b[1;32m   1244\u001b[0m \u001b[0;34m\u001b[0m\u001b[0m\n",
      "\u001b[0;32m/usr/lib/environs/e-a-2019.03-py-3.7.3/lib/python3.7/site-packages/tensorflow_estimator/python/estimator/estimator.py\u001b[0m in \u001b[0;36m_actual_train_model_distributed\u001b[0;34m(self, strategy, input_fn, hooks, saving_listeners)\u001b[0m\n\u001b[1;32m   1324\u001b[0m                   \u001b[0mlabels\u001b[0m\u001b[0;34m,\u001b[0m  \u001b[0;31m# although this will be None it seems\u001b[0m\u001b[0;34m\u001b[0m\u001b[0;34m\u001b[0m\u001b[0m\n\u001b[1;32m   1325\u001b[0m                   \u001b[0mModeKeys\u001b[0m\u001b[0;34m.\u001b[0m\u001b[0mTRAIN\u001b[0m\u001b[0;34m,\u001b[0m\u001b[0;34m\u001b[0m\u001b[0;34m\u001b[0m\u001b[0m\n\u001b[0;32m-> 1326\u001b[0;31m                   self.config))\n\u001b[0m\u001b[1;32m   1327\u001b[0m           loss = strategy.reduce(\n\u001b[1;32m   1328\u001b[0m               \u001b[0m_get_loss_reduce_op_for_reporting\u001b[0m\u001b[0;34m(\u001b[0m\u001b[0;34m)\u001b[0m\u001b[0;34m,\u001b[0m\u001b[0;34m\u001b[0m\u001b[0;34m\u001b[0m\u001b[0m\n",
      "\u001b[0;32m/usr/lib/environs/e-a-2019.03-py-3.7.3/lib/python3.7/site-packages/tensorflow/python/distribute/distribute_lib.py\u001b[0m in \u001b[0;36mcall_for_each_replica\u001b[0;34m(self, fn, args, kwargs)\u001b[0m\n\u001b[1;32m   2288\u001b[0m       \u001b[0mkwargs\u001b[0m \u001b[0;34m=\u001b[0m \u001b[0;34m{\u001b[0m\u001b[0;34m}\u001b[0m\u001b[0;34m\u001b[0m\u001b[0;34m\u001b[0m\u001b[0m\n\u001b[1;32m   2289\u001b[0m     \u001b[0;32mwith\u001b[0m \u001b[0mself\u001b[0m\u001b[0;34m.\u001b[0m\u001b[0m_container_strategy\u001b[0m\u001b[0;34m(\u001b[0m\u001b[0;34m)\u001b[0m\u001b[0;34m.\u001b[0m\u001b[0mscope\u001b[0m\u001b[0;34m(\u001b[0m\u001b[0;34m)\u001b[0m\u001b[0;34m:\u001b[0m\u001b[0;34m\u001b[0m\u001b[0;34m\u001b[0m\u001b[0m\n\u001b[0;32m-> 2290\u001b[0;31m       \u001b[0;32mreturn\u001b[0m \u001b[0mself\u001b[0m\u001b[0;34m.\u001b[0m\u001b[0m_call_for_each_replica\u001b[0m\u001b[0;34m(\u001b[0m\u001b[0mfn\u001b[0m\u001b[0;34m,\u001b[0m \u001b[0margs\u001b[0m\u001b[0;34m,\u001b[0m \u001b[0mkwargs\u001b[0m\u001b[0;34m)\u001b[0m\u001b[0;34m\u001b[0m\u001b[0;34m\u001b[0m\u001b[0m\n\u001b[0m\u001b[1;32m   2291\u001b[0m \u001b[0;34m\u001b[0m\u001b[0m\n\u001b[1;32m   2292\u001b[0m   \u001b[0;32mdef\u001b[0m \u001b[0m_call_for_each_replica\u001b[0m\u001b[0;34m(\u001b[0m\u001b[0mself\u001b[0m\u001b[0;34m,\u001b[0m \u001b[0mfn\u001b[0m\u001b[0;34m,\u001b[0m \u001b[0margs\u001b[0m\u001b[0;34m,\u001b[0m \u001b[0mkwargs\u001b[0m\u001b[0;34m)\u001b[0m\u001b[0;34m:\u001b[0m\u001b[0;34m\u001b[0m\u001b[0;34m\u001b[0m\u001b[0m\n",
      "\u001b[0;32m/usr/lib/environs/e-a-2019.03-py-3.7.3/lib/python3.7/site-packages/tensorflow/python/distribute/mirrored_strategy.py\u001b[0m in \u001b[0;36m_call_for_each_replica\u001b[0;34m(self, fn, args, kwargs)\u001b[0m\n\u001b[1;32m    768\u001b[0m \u001b[0;34m\u001b[0m\u001b[0m\n\u001b[1;32m    769\u001b[0m     return _call_for_each_replica(self._container_strategy(), self._devices,\n\u001b[0;32m--> 770\u001b[0;31m                                   fn, args, kwargs)\n\u001b[0m\u001b[1;32m    771\u001b[0m \u001b[0;34m\u001b[0m\u001b[0m\n\u001b[1;32m    772\u001b[0m   def _configure(self,\n",
      "\u001b[0;32m/usr/lib/environs/e-a-2019.03-py-3.7.3/lib/python3.7/site-packages/tensorflow/python/distribute/mirrored_strategy.py\u001b[0m in \u001b[0;36m_call_for_each_replica\u001b[0;34m(distribution, devices, fn, args, kwargs)\u001b[0m\n\u001b[1;32m    199\u001b[0m     \u001b[0;32mfor\u001b[0m \u001b[0mt\u001b[0m \u001b[0;32min\u001b[0m \u001b[0mthreads\u001b[0m\u001b[0;34m:\u001b[0m\u001b[0;34m\u001b[0m\u001b[0;34m\u001b[0m\u001b[0m\n\u001b[1;32m    200\u001b[0m       \u001b[0mt\u001b[0m\u001b[0;34m.\u001b[0m\u001b[0mshould_run\u001b[0m\u001b[0;34m.\u001b[0m\u001b[0mset\u001b[0m\u001b[0;34m(\u001b[0m\u001b[0;34m)\u001b[0m\u001b[0;34m\u001b[0m\u001b[0;34m\u001b[0m\u001b[0m\n\u001b[0;32m--> 201\u001b[0;31m     \u001b[0mcoord\u001b[0m\u001b[0;34m.\u001b[0m\u001b[0mjoin\u001b[0m\u001b[0;34m(\u001b[0m\u001b[0mthreads\u001b[0m\u001b[0;34m)\u001b[0m\u001b[0;34m\u001b[0m\u001b[0;34m\u001b[0m\u001b[0m\n\u001b[0m\u001b[1;32m    202\u001b[0m \u001b[0;34m\u001b[0m\u001b[0m\n\u001b[1;32m    203\u001b[0m   \u001b[0;32mreturn\u001b[0m \u001b[0mvalues\u001b[0m\u001b[0;34m.\u001b[0m\u001b[0mregroup\u001b[0m\u001b[0;34m(\u001b[0m\u001b[0mtuple\u001b[0m\u001b[0;34m(\u001b[0m\u001b[0mt\u001b[0m\u001b[0;34m.\u001b[0m\u001b[0mmain_result\u001b[0m \u001b[0;32mfor\u001b[0m \u001b[0mt\u001b[0m \u001b[0;32min\u001b[0m \u001b[0mthreads\u001b[0m\u001b[0;34m)\u001b[0m\u001b[0;34m)\u001b[0m\u001b[0;34m\u001b[0m\u001b[0;34m\u001b[0m\u001b[0m\n",
      "\u001b[0;32m/usr/lib/environs/e-a-2019.03-py-3.7.3/lib/python3.7/site-packages/tensorflow/python/training/coordinator.py\u001b[0m in \u001b[0;36mjoin\u001b[0;34m(self, threads, stop_grace_period_secs, ignore_live_threads)\u001b[0m\n\u001b[1;32m    387\u001b[0m       \u001b[0mself\u001b[0m\u001b[0;34m.\u001b[0m\u001b[0m_registered_threads\u001b[0m \u001b[0;34m=\u001b[0m \u001b[0mset\u001b[0m\u001b[0;34m(\u001b[0m\u001b[0;34m)\u001b[0m\u001b[0;34m\u001b[0m\u001b[0;34m\u001b[0m\u001b[0m\n\u001b[1;32m    388\u001b[0m       \u001b[0;32mif\u001b[0m \u001b[0mself\u001b[0m\u001b[0;34m.\u001b[0m\u001b[0m_exc_info_to_raise\u001b[0m\u001b[0;34m:\u001b[0m\u001b[0;34m\u001b[0m\u001b[0;34m\u001b[0m\u001b[0m\n\u001b[0;32m--> 389\u001b[0;31m         \u001b[0msix\u001b[0m\u001b[0;34m.\u001b[0m\u001b[0mreraise\u001b[0m\u001b[0;34m(\u001b[0m\u001b[0;34m*\u001b[0m\u001b[0mself\u001b[0m\u001b[0;34m.\u001b[0m\u001b[0m_exc_info_to_raise\u001b[0m\u001b[0;34m)\u001b[0m\u001b[0;34m\u001b[0m\u001b[0;34m\u001b[0m\u001b[0m\n\u001b[0m\u001b[1;32m    390\u001b[0m       \u001b[0;32melif\u001b[0m \u001b[0mstragglers\u001b[0m\u001b[0;34m:\u001b[0m\u001b[0;34m\u001b[0m\u001b[0;34m\u001b[0m\u001b[0m\n\u001b[1;32m    391\u001b[0m         \u001b[0;32mif\u001b[0m \u001b[0mignore_live_threads\u001b[0m\u001b[0;34m:\u001b[0m\u001b[0;34m\u001b[0m\u001b[0;34m\u001b[0m\u001b[0m\n",
      "\u001b[0;32m/usr/lib/environs/e-a-2019.03-py-3.7.3/lib/python3.7/site-packages/six.py\u001b[0m in \u001b[0;36mreraise\u001b[0;34m(tp, value, tb)\u001b[0m\n\u001b[1;32m    691\u001b[0m             \u001b[0;32mif\u001b[0m \u001b[0mvalue\u001b[0m\u001b[0;34m.\u001b[0m\u001b[0m__traceback__\u001b[0m \u001b[0;32mis\u001b[0m \u001b[0;32mnot\u001b[0m \u001b[0mtb\u001b[0m\u001b[0;34m:\u001b[0m\u001b[0;34m\u001b[0m\u001b[0;34m\u001b[0m\u001b[0m\n\u001b[1;32m    692\u001b[0m                 \u001b[0;32mraise\u001b[0m \u001b[0mvalue\u001b[0m\u001b[0;34m.\u001b[0m\u001b[0mwith_traceback\u001b[0m\u001b[0;34m(\u001b[0m\u001b[0mtb\u001b[0m\u001b[0;34m)\u001b[0m\u001b[0;34m\u001b[0m\u001b[0;34m\u001b[0m\u001b[0m\n\u001b[0;32m--> 693\u001b[0;31m             \u001b[0;32mraise\u001b[0m \u001b[0mvalue\u001b[0m\u001b[0;34m\u001b[0m\u001b[0;34m\u001b[0m\u001b[0m\n\u001b[0m\u001b[1;32m    694\u001b[0m         \u001b[0;32mfinally\u001b[0m\u001b[0;34m:\u001b[0m\u001b[0;34m\u001b[0m\u001b[0;34m\u001b[0m\u001b[0m\n\u001b[1;32m    695\u001b[0m             \u001b[0mvalue\u001b[0m \u001b[0;34m=\u001b[0m \u001b[0;32mNone\u001b[0m\u001b[0;34m\u001b[0m\u001b[0;34m\u001b[0m\u001b[0m\n",
      "\u001b[0;32m/usr/lib/environs/e-a-2019.03-py-3.7.3/lib/python3.7/site-packages/tensorflow/python/training/coordinator.py\u001b[0m in \u001b[0;36mstop_on_exception\u001b[0;34m(self)\u001b[0m\n\u001b[1;32m    295\u001b[0m     \"\"\"\n\u001b[1;32m    296\u001b[0m     \u001b[0;32mtry\u001b[0m\u001b[0;34m:\u001b[0m\u001b[0;34m\u001b[0m\u001b[0;34m\u001b[0m\u001b[0m\n\u001b[0;32m--> 297\u001b[0;31m       \u001b[0;32myield\u001b[0m\u001b[0;34m\u001b[0m\u001b[0;34m\u001b[0m\u001b[0m\n\u001b[0m\u001b[1;32m    298\u001b[0m     \u001b[0;32mexcept\u001b[0m\u001b[0;34m:\u001b[0m  \u001b[0;31m# pylint: disable=bare-except\u001b[0m\u001b[0;34m\u001b[0m\u001b[0;34m\u001b[0m\u001b[0m\n\u001b[1;32m    299\u001b[0m       \u001b[0mself\u001b[0m\u001b[0;34m.\u001b[0m\u001b[0mrequest_stop\u001b[0m\u001b[0;34m(\u001b[0m\u001b[0mex\u001b[0m\u001b[0;34m=\u001b[0m\u001b[0msys\u001b[0m\u001b[0;34m.\u001b[0m\u001b[0mexc_info\u001b[0m\u001b[0;34m(\u001b[0m\u001b[0;34m)\u001b[0m\u001b[0;34m)\u001b[0m\u001b[0;34m\u001b[0m\u001b[0;34m\u001b[0m\u001b[0m\n",
      "\u001b[0;32m/usr/lib/environs/e-a-2019.03-py-3.7.3/lib/python3.7/site-packages/tensorflow/python/distribute/mirrored_strategy.py\u001b[0m in \u001b[0;36mrun\u001b[0;34m(self)\u001b[0m\n\u001b[1;32m    996\u001b[0m               self._var_scope, reuse=self.replica_id > 0), \\\n\u001b[1;32m    997\u001b[0m           \u001b[0mvariable_scope\u001b[0m\u001b[0;34m.\u001b[0m\u001b[0mvariable_creator_scope\u001b[0m\u001b[0;34m(\u001b[0m\u001b[0mself\u001b[0m\u001b[0;34m.\u001b[0m\u001b[0mvariable_creator_fn\u001b[0m\u001b[0;34m)\u001b[0m\u001b[0;34m:\u001b[0m\u001b[0;34m\u001b[0m\u001b[0;34m\u001b[0m\u001b[0m\n\u001b[0;32m--> 998\u001b[0;31m         \u001b[0mself\u001b[0m\u001b[0;34m.\u001b[0m\u001b[0mmain_result\u001b[0m \u001b[0;34m=\u001b[0m \u001b[0mself\u001b[0m\u001b[0;34m.\u001b[0m\u001b[0mmain_fn\u001b[0m\u001b[0;34m(\u001b[0m\u001b[0;34m*\u001b[0m\u001b[0mself\u001b[0m\u001b[0;34m.\u001b[0m\u001b[0mmain_args\u001b[0m\u001b[0;34m,\u001b[0m \u001b[0;34m**\u001b[0m\u001b[0mself\u001b[0m\u001b[0;34m.\u001b[0m\u001b[0mmain_kwargs\u001b[0m\u001b[0;34m)\u001b[0m\u001b[0;34m\u001b[0m\u001b[0;34m\u001b[0m\u001b[0m\n\u001b[0m\u001b[1;32m    999\u001b[0m         \u001b[0mself\u001b[0m\u001b[0;34m.\u001b[0m\u001b[0mdone\u001b[0m \u001b[0;34m=\u001b[0m \u001b[0;32mTrue\u001b[0m\u001b[0;34m\u001b[0m\u001b[0;34m\u001b[0m\u001b[0m\n\u001b[1;32m   1000\u001b[0m     \u001b[0;32mfinally\u001b[0m\u001b[0;34m:\u001b[0m\u001b[0;34m\u001b[0m\u001b[0;34m\u001b[0m\u001b[0m\n",
      "\u001b[0;32m/usr/lib/environs/e-a-2019.03-py-3.7.3/lib/python3.7/site-packages/tensorflow/python/autograph/impl/api.py\u001b[0m in \u001b[0;36mwrapper\u001b[0;34m(*args, **kwargs)\u001b[0m\n\u001b[1;32m    263\u001b[0m       \u001b[0;32mexcept\u001b[0m \u001b[0mException\u001b[0m \u001b[0;32mas\u001b[0m \u001b[0me\u001b[0m\u001b[0;34m:\u001b[0m  \u001b[0;31m# pylint:disable=broad-except\u001b[0m\u001b[0;34m\u001b[0m\u001b[0;34m\u001b[0m\u001b[0m\n\u001b[1;32m    264\u001b[0m         \u001b[0;32mif\u001b[0m \u001b[0mhasattr\u001b[0m\u001b[0;34m(\u001b[0m\u001b[0me\u001b[0m\u001b[0;34m,\u001b[0m \u001b[0;34m'ag_error_metadata'\u001b[0m\u001b[0;34m)\u001b[0m\u001b[0;34m:\u001b[0m\u001b[0;34m\u001b[0m\u001b[0;34m\u001b[0m\u001b[0m\n\u001b[0;32m--> 265\u001b[0;31m           \u001b[0;32mraise\u001b[0m \u001b[0me\u001b[0m\u001b[0;34m.\u001b[0m\u001b[0mag_error_metadata\u001b[0m\u001b[0;34m.\u001b[0m\u001b[0mto_exception\u001b[0m\u001b[0;34m(\u001b[0m\u001b[0me\u001b[0m\u001b[0;34m)\u001b[0m\u001b[0;34m\u001b[0m\u001b[0;34m\u001b[0m\u001b[0m\n\u001b[0m\u001b[1;32m    266\u001b[0m         \u001b[0;32melse\u001b[0m\u001b[0;34m:\u001b[0m\u001b[0;34m\u001b[0m\u001b[0;34m\u001b[0m\u001b[0m\n\u001b[1;32m    267\u001b[0m           \u001b[0;32mraise\u001b[0m\u001b[0;34m\u001b[0m\u001b[0;34m\u001b[0m\u001b[0m\n",
      "\u001b[0;31mTypeError\u001b[0m: in user code:\n\n    /usr/lib/environs/e-a-2019.03-py-3.7.3/lib/python3.7/site-packages/tensorflow_estimator/python/estimator/estimator.py:1170 _call_model_fn  *\n        model_fn_results = self._model_fn(features=features, **kwargs)\n    /media/ephemeral0/combined_estimator.py:39 model_fn  *\n        if spec.train_op:\n    /usr/lib/environs/e-a-2019.03-py-3.7.3/lib/python3.7/site-packages/tensorflow/python/autograph/operators/control_flow.py:924 if_stmt\n        basic_symbol_names, composite_symbol_names)\n    /usr/lib/environs/e-a-2019.03-py-3.7.3/lib/python3.7/site-packages/tensorflow/python/autograph/operators/control_flow.py:962 tf_if_stmt\n        error_checking_orelse)\n    /usr/lib/environs/e-a-2019.03-py-3.7.3/lib/python3.7/site-packages/tensorflow/python/util/deprecation.py:507 new_func\n        return func(*args, **kwargs)\n    /usr/lib/environs/e-a-2019.03-py-3.7.3/lib/python3.7/site-packages/tensorflow/python/ops/control_flow_ops.py:1177 cond\n        return cond_v2.cond_v2(pred, true_fn, false_fn, name)\n    /usr/lib/environs/e-a-2019.03-py-3.7.3/lib/python3.7/site-packages/tensorflow/python/ops/cond_v2.py:91 cond_v2\n        op_return_value=pred)\n    /usr/lib/environs/e-a-2019.03-py-3.7.3/lib/python3.7/site-packages/tensorflow/python/framework/func_graph.py:981 func_graph_from_py_func\n        func_outputs = python_func(*func_args, **func_kwargs)\n    /usr/lib/environs/e-a-2019.03-py-3.7.3/lib/python3.7/site-packages/tensorflow/python/autograph/operators/control_flow.py:958 error_checking_orelse\n        basic_symbol_names + composite_symbol_names)\n    /usr/lib/environs/e-a-2019.03-py-3.7.3/lib/python3.7/site-packages/tensorflow/python/autograph/operators/control_flow.py:295 _verify_tf_cond_vars\n        ' branches.\\n\\n{}'.format(name, str(e)))\n\n    TypeError: \"train_op_list\" does not have the same nested structure in the TRUE and FALSE branches.\n    \n    The two structures don't have the same nested structure.\n    \n    First structure: type=list str=[<tf.Tensor 'Adam/Identity:0' shape=() dtype=int64>]\n    \n    Second structure: type=NoneType str=None\n    \n    More specifically: Substructure \"type=list str=[<tf.Tensor 'Adam/Identity:0' shape=() dtype=int64>]\" is a sequence, while substructure \"type=NoneType str=None\" is not\n    Entire first structure:\n    [.]\n    Entire second structure:\n    .\n"
     ]
    }
   ],
   "source": [
    "train_spec = tf.estimator.TrainSpec(input_fn=train_input_fn, max_steps=TRAIN_MAX_STEPS)\n",
    "eval_spec = tf.estimator.EvalSpec(input_fn = eval_input_fn)\n",
    "\n",
    "tf.estimator.train_and_evaluate(estimator, train_spec=train_spec, eval_spec=eval_spec)"
   ]
  },
  {
   "cell_type": "code",
   "execution_count": null,
   "metadata": {},
   "outputs": [],
   "source": []
  },
  {
   "cell_type": "code",
   "execution_count": null,
   "metadata": {},
   "outputs": [],
   "source": []
  }
 ],
 "metadata": {
  "kernelspec": {
   "display_name": "Python 3",
   "language": "python",
   "name": "python3"
  },
  "language_info": {
   "codemirror_mode": {
    "name": "ipython",
    "version": 3
   },
   "file_extension": ".py",
   "mimetype": "text/x-python",
   "name": "python",
   "nbconvert_exporter": "python",
   "pygments_lexer": "ipython3",
   "version": "3.7.5"
  },
  "qubole": {
   "kernel_log_url": "https://us.qubole.com/jupyter-notebook-43434/qubole/api/v1/kernel_logs/97f3ce09-0671-471c-882f-a73ef642cdce"
  }
 },
 "nbformat": 4,
 "nbformat_minor": 4
}
